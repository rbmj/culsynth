{
 "cells": [
  {
   "cell_type": "code",
   "execution_count": 51,
   "metadata": {},
   "outputs": [
    {
     "name": "stdout",
     "output_type": "stream",
     "text": [
      "       -Tₛ⋅(zᵢ + 1)         \n",
      "────────────────────────────\n",
      "2⋅C⋅R⋅(zᵢ - 1) - Tₛ⋅(zᵢ + 1)\n"
     ]
    },
    {
     "data": {
      "text/latex": [
       "$$V(z) = \\frac{T_{s}}{2 C R + T_{s}} C(z) + \\frac{T_{s}}{2 C R + T_{s}} C(z) z^{-1}  + \\frac{2 C R - T_{s}}{2 C R + T_{s}} V(z) z^{-1} $$"
      ],
      "text/plain": [
       "<IPython.core.display.Latex object>"
      ]
     },
     "metadata": {},
     "output_type": "display_data"
    },
    {
     "data": {
      "text/latex": [
       "$$V(z) = \\frac{1}{K + 1}[ C(z) +  C(z) z^{-1}  +  ( K - 1 )  V(z) z^{-1} ]$$"
      ],
      "text/plain": [
       "<IPython.core.display.Latex object>"
      ]
     },
     "metadata": {},
     "output_type": "display_data"
    },
    {
     "data": {
      "text/latex": [
       "$$\\mathrm{Where} \\: K = \\frac{2 T_{R}}{T_{s} n} \\: \\mathrm{and} \\: T_R = n \\tau = n C R$$"
      ],
      "text/plain": [
       "<IPython.core.display.Latex object>"
      ]
     },
     "metadata": {},
     "output_type": "display_data"
    }
   ],
   "source": [
    "from sympy import *\n",
    "from IPython.display import display, Latex\n",
    "\n",
    "var('s R C T_s z_i')\n",
    "tf = 1/(1+s*R*C)\n",
    "bilinear = (2/T_s)*(1-z_i)/(1+z_i)\n",
    "tf = tf.subs(s, bilinear).simplify()\n",
    "pretty_print(tf)\n",
    "\n",
    "import re\n",
    "#Given a bilinearly transformed transfer function F, with z^-1 represented by var,\n",
    "#Returns two sequences (A, B)\n",
    "def bilinear_to_sequence(F, var):\n",
    "    F_a = denom(F).as_poly(var).all_coeffs()[::-1]\n",
    "    scalar = F_a[0]\n",
    "    F_a = [(-x/scalar).simplify() for x in F_a[1:]]\n",
    "    F_b = [(x/scalar).simplify() for x in numer(F).as_poly(var).all_coeffs()[::-1]]\n",
    "\n",
    "    #reconstruct the function to double check...\n",
    "    F_new = (sum(b_n*Pow(var, n) for (n, b_n) in enumerate(F_b)) /\n",
    "        (1 - sum(a_n*Pow(var, (n+1)) for (n, a_n) in enumerate(F_a))))\n",
    "    assert((F - F_new).simplify() == 0) #check your work!\n",
    "    \n",
    "    return (F_a, F_b)\n",
    "\n",
    "def print_bilinear_sequence(A, B, input_tex, output_tex, overall_gain=1):\n",
    "    def format_term(term, func, power):\n",
    "        if bool(term == 0):\n",
    "            return None\n",
    "        if term != 1:\n",
    "            r = latex(term)\n",
    "            if denom(term) == 1:\n",
    "                r = \" ( \" + r + \" ) \"\n",
    "        else:\n",
    "            r = \"\"\n",
    "        r += \" \" + func\n",
    "        if power != 0:\n",
    "            r += \" z^{{-{}}} \".format(power)\n",
    "        return r\n",
    "    terms_fmt = list(filter(None, map(lambda x: format_term(x[0]/overall_gain, input_tex, x[1]), zip(B, range(len(B))))))\n",
    "    terms_fmt += filter(None, map(lambda x: format_term(x[0]/overall_gain, output_tex, x[1]+1), zip(A, range(len(A)))))\n",
    "    terms_fmt = re.sub('\\\\+\\\\s*-', '-', \" + \".join(terms_fmt))\n",
    "    if overall_gain != 1:\n",
    "        terms_fmt = latex(overall_gain) + \"[\" + terms_fmt + \"]\"\n",
    "    display(Latex('$$' + output_tex + \" = \" + terms_fmt + '$$'))\n",
    "\n",
    " \n",
    "(A, B) = bilinear_to_sequence(tf, z_i)\n",
    "print_bilinear_sequence(A, B, \"C(z)\", \"V(z)\")\n",
    "\n",
    "# RC = tau, T_R = n*tau\n",
    "var('T_R tau K n')\n",
    "tf = tf.subs(C, tau/R).simplify()\n",
    "tf = tf.subs(tau, T_R/n).simplify()\n",
    "# let K = 2T_R/(n*T_S)\n",
    "tf = tf.subs(T_R, K*n*T_s/2)\n",
    "(A, B) = bilinear_to_sequence(tf, z_i)\n",
    "print_bilinear_sequence(A, B, \"C(z)\", \"V(z)\", 1/(K+1))\n",
    "display(Latex(\"$$\\\\mathrm{Where} \\\\: K = \" + latex(2*T_R/(n*T_s)) + \" \\\\: \\\\mathrm{and} \\\\: T_R = \" + latex(n*tau) + ' = n C R' + \"$$\"))\n"
   ]
  },
  {
   "cell_type": "code",
   "execution_count": null,
   "metadata": {},
   "outputs": [],
   "source": [
    "#  Therefore, since (K-1)/(K+1) = (((K+1)-2)/(K+1) = 1- 2/(K+1)\n",
    "#\n",
    "#       V(z) = V(z)*z^-1 + (1 / (K + 1)) * (C(z) + C(z)*z^-1 - 2V(z)*z^-1)"
   ]
  },
  {
   "cell_type": "code",
   "execution_count": 47,
   "metadata": {},
   "outputs": [
    {
     "data": {
      "application/vnd.jupyter.widget-view+json": {
       "model_id": "2d2adf4e0fcc45e0886a1a16f5a48700",
       "version_major": 2,
       "version_minor": 0
      },
      "text/plain": [
       "interactive(children=(FloatSlider(value=0.3, description='A', max=2.0), FloatSlider(value=0.3, description='D'…"
      ]
     },
     "metadata": {},
     "output_type": "display_data"
    }
   ],
   "source": [
    "from ipywidgets import interact, FloatSlider as slider\n",
    "import matplotlib.pyplot as plt\n",
    "\n",
    "def envelope(A, D, S, R, samp_rate, s_sample, num_samples):\n",
    "    state = 0\n",
    "    counter = 0\n",
    "    X_prev = 0.0\n",
    "    X = 1.0\n",
    "    Y_prev = 0.0\n",
    "    Y = 0.0\n",
    "    K = A*samp_rate/4                # initialize for attack timing\n",
    "    while counter < num_samples:\n",
    "        X_prev = X\n",
    "        if state == 0:               # attack phase\n",
    "            if Y > 0.98:             #   hit the attack peak\n",
    "                X = S                #   set CV\n",
    "                K = D*samp_rate/4    #   set K for decay timing\n",
    "                state = 1            #   state transition\n",
    "        elif state == 1:             # decay/sustain phase\n",
    "            if counter >= s_sample:  #   reached end of sustain\n",
    "                X = 0                #   set CV\n",
    "                K = R*samp_rate/4    #   set K for release timing\n",
    "                state = 2\n",
    "        tmp = Y\n",
    "        Y = (X + X_prev + (K-1)*Y_prev)/(K+1)\n",
    "        Y_prev = tmp\n",
    "        yield Y\n",
    "        counter += 1\n",
    "\n",
    "@interact\n",
    "def _(A=slider(min=0, max=2, step=0.1, value=0.3),\n",
    "      D=slider(min=0, max=2, step=0.1, value=0.3),\n",
    "      S=slider(min=0, max=1, step=0.1, value=0.5),\n",
    "      R=slider(min=0, max=2, step=0.1, value=0.5)):\n",
    "    samp_rate = 200\n",
    "    plt.plot(\n",
    "        [x/float(samp_rate) for x in range(samp_rate*6)],\n",
    "        list(envelope(A, D, S, R, samp_rate, samp_rate*4, samp_rate*6))\n",
    "    )\n",
    "    plt.show()"
   ]
  },
  {
   "cell_type": "code",
   "execution_count": null,
   "metadata": {},
   "outputs": [],
   "source": []
  },
  {
   "cell_type": "code",
   "execution_count": null,
   "metadata": {},
   "outputs": [],
   "source": []
  }
 ],
 "metadata": {
  "kernelspec": {
   "display_name": "Python 3 (ipykernel)",
   "language": "python",
   "name": "python3"
  },
  "language_info": {
   "codemirror_mode": {
    "name": "ipython",
    "version": 3
   },
   "file_extension": ".py",
   "mimetype": "text/x-python",
   "name": "python",
   "nbconvert_exporter": "python",
   "pygments_lexer": "ipython3",
   "version": "3.12.0"
  }
 },
 "nbformat": 4,
 "nbformat_minor": 4
}
