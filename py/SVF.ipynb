{
 "cells": [
  {
   "cell_type": "markdown",
   "metadata": {},
   "source": [
    "Consider a SVF with the following structure:"
   ]
  },
  {
   "cell_type": "markdown",
   "metadata": {},
   "source": [
    "```\n",
    "              +--> H         +--> B\n",
    "              |              |                      \n",
    "X ---> (+) ---+---> (k/s) ---+---> (c^2*k/s) ---+---> L\n",
    "        ^-                   |                  |\n",
    "        |                    V                  |\n",
    "        |                  (2rc)                |\n",
    "        |                    |                  |\n",
    "        |                    V                  |\n",
    "        +------------------ (+) <---------------+\n",
    "        \n",
    "```"
   ]
  },
  {
   "cell_type": "code",
   "execution_count": 19,
   "metadata": {},
   "outputs": [
    {
     "name": "stdout",
     "output_type": "stream",
     "text": [
      "1 solution(s) found:\n"
     ]
    },
    {
     "data": {
      "image/png": "[encoded data removed]",
      "text/latex": [
       "$\\displaystyle \\frac{s^{2}}{c^{2} k^{2} + 2 c k r s + s^{2}}$"
      ],
      "text/plain": [
       "           2          \n",
       "          s           \n",
       "──────────────────────\n",
       " 2  2                2\n",
       "c ⋅k  + 2⋅c⋅k⋅r⋅s + s "
      ]
     },
     "metadata": {},
     "output_type": "display_data"
    },
    {
     "data": {
      "image/png": "[encoded data removed]",
      "text/latex": [
       "$\\displaystyle \\frac{k s}{c^{2} k^{2} + 2 c k r s + s^{2}}$"
      ],
      "text/plain": [
       "         k⋅s          \n",
       "──────────────────────\n",
       " 2  2                2\n",
       "c ⋅k  + 2⋅c⋅k⋅r⋅s + s "
      ]
     },
     "metadata": {},
     "output_type": "display_data"
    },
    {
     "data": {
      "image/png": "[encoded data removed]",
      "text/latex": [
       "$\\displaystyle \\frac{c^{2} k^{2}}{c^{2} k^{2} + 2 c k r s + s^{2}}$"
      ],
      "text/plain": [
       "         2  2         \n",
       "        c ⋅k          \n",
       "──────────────────────\n",
       " 2  2                2\n",
       "c ⋅k  + 2⋅c⋅k⋅r⋅s + s "
      ]
     },
     "metadata": {},
     "output_type": "display_data"
    }
   ],
   "source": [
    "from sympy import *\n",
    "from IPython.display import display, Latex\n",
    "from ipywidgets.widgets import interact, FloatSlider as slider, Checkbox as checkbox\n",
    "\n",
    "init_printing()\n",
    "\n",
    "var('H B L X s')\n",
    "r = Symbol('r', real=True)\n",
    "c = Symbol('c', positive=True)\n",
    "k = Symbol('k', positive=True)\n",
    "\n",
    "tfs = solve([\n",
    "    H - ( X - (2*r*c*B + L) ),\n",
    "    B - ( H*k/s ),\n",
    "    L - ( B*c*c*k/s ) ], H, B, L, dict=True)\n",
    "print('{} solution(s) found:'.format(len(tfs)))\n",
    "H = tfs[0][H]/X\n",
    "B = tfs[0][B]/X\n",
    "L = tfs[0][L]/X\n",
    "\n",
    "#display(Latex(\"$$ \\\\frac H X = \" + latex(H) + \" $$\"))\n",
    "#display(Latex(\"$$ \\\\frac B X = \" + latex(B) + \" $$\"))\n",
    "#display(Latex(\"$$ \\\\frac L X = \" + latex(L) + \" $$\"))\n",
    "display(H)\n",
    "display(B)\n",
    "display(L)\n"
   ]
  },
  {
   "cell_type": "markdown",
   "metadata": {},
   "source": [
    "There's a couple of different ways to define the cutoff frequency of this filter, but let's choose the resonant peak of the band-pass filter."
   ]
  },
  {
   "cell_type": "code",
   "execution_count": 2,
   "metadata": {},
   "outputs": [
    {
     "data": {
      "text/latex": [
       "$$ \\omega_c = c k $$"
      ],
      "text/plain": [
       "<IPython.core.display.Latex object>"
      ]
     },
     "metadata": {},
     "output_type": "display_data"
    }
   ],
   "source": [
    "omega_c = Symbol('omega_c', positive=True)\n",
    "solns = solve(\n",
    "    re(diff(B.subs(s, omega_c*I), omega_c)),\n",
    "    omega_c, dict=True)\n",
    "assert(len(solns) == 1)\n",
    "omega_c = solns[0][omega_c]\n",
    "\n",
    "display(Latex(\"$$ \\\\omega_c = \" + latex(omega_c) + \" $$\"))\n"
   ]
  },
  {
   "cell_type": "markdown",
   "metadata": {},
   "source": [
    "Let's redefine our filter then, replacing the constant $k$ with the equivalent in terms of the cutoff frequency, $\\omega_c / c$:"
   ]
  },
  {
   "cell_type": "code",
   "execution_count": 3,
   "metadata": {},
   "outputs": [
    {
     "data": {
      "text/latex": [
       "$$ \\frac H X = \\frac{s^{2}}{\\omega_{c}^{2} + 2 \\omega_{c} r s + s^{2}} $$"
      ],
      "text/plain": [
       "<IPython.core.display.Latex object>"
      ]
     },
     "metadata": {},
     "output_type": "display_data"
    },
    {
     "data": {
      "text/latex": [
       "$$ \\frac B X = \\frac{\\omega_{c} s}{c \\left(\\omega_{c}^{2} + 2 \\omega_{c} r s + s^{2}\\right)} $$"
      ],
      "text/plain": [
       "<IPython.core.display.Latex object>"
      ]
     },
     "metadata": {},
     "output_type": "display_data"
    },
    {
     "data": {
      "text/latex": [
       "$$ \\frac L X = \\frac{\\omega_{c}^{2}}{\\omega_{c}^{2} + 2 \\omega_{c} r s + s^{2}} $$"
      ],
      "text/plain": [
       "<IPython.core.display.Latex object>"
      ]
     },
     "metadata": {},
     "output_type": "display_data"
    }
   ],
   "source": [
    "omega_c = Symbol('omega_c', positive=True)\n",
    "H = H.subs(k, omega_c/c)\n",
    "B = B.subs(k, omega_c/c)\n",
    "L = L.subs(k, omega_c/c)\n",
    "\n",
    "display(Latex(\"$$ \\\\frac H X = \" + latex(H) + \" $$\"))\n",
    "display(Latex(\"$$ \\\\frac B X = \" + latex(B) + \" $$\"))\n",
    "display(Latex(\"$$ \\\\frac L X = \" + latex(L) + \" $$\"))"
   ]
  },
  {
   "cell_type": "markdown",
   "metadata": {},
   "source": [
    "The denominator for all three outputs is the same (except for a constant multiple on the band pass output), so they will have the same poles:"
   ]
  },
  {
   "cell_type": "code",
   "execution_count": 6,
   "metadata": {},
   "outputs": [
    {
     "data": {
      "text/latex": [
       "$$\\omega_{c} \\left(- r - \\sqrt{r^{2} - 1}\\right) \\newline \\omega_{c} \\left(- r + \\sqrt{r^{2} - 1}\\right)$$"
      ],
      "text/plain": [
       "<IPython.core.display.Latex object>"
      ]
     },
     "metadata": {},
     "output_type": "display_data"
    },
    {
     "name": "stdout",
     "output_type": "stream",
     "text": [
      "So:\n"
     ]
    },
    {
     "data": {
      "text/latex": [
       "$$s= - \\omega_c (r \\pm \\sqrt {r^2-1}) $$"
      ],
      "text/plain": [
       "<IPython.core.display.Latex object>"
      ]
     },
     "metadata": {},
     "output_type": "display_data"
    }
   ],
   "source": [
    "poles = solve(denom(L), s)\n",
    "display(Latex('$$' + latex(poles[0]) + ' \\\\newline ' + latex(poles[1]) + '$$'))\n",
    "print('So:')\n",
    "display(Latex('$$' + latex(s) + \"= - \\\\omega_c (r \\\\pm \\\\sqrt {r^2-1}) $$\"))\n"
   ]
  },
  {
   "cell_type": "markdown",
   "metadata": {},
   "source": [
    "The stability criterion here is that the real portion of the root is negative.  There are a few cases to consider:\n",
    "\n",
    "   - $|r| \\ge 1$, in which case $r^2 - 1$ is a positive real number and the radical is smaller than $|r|$.\n",
    "       * If r is positive, then there are two real poles, and both are negative (stable)\n",
    "       * If r is negative, then there are two real poles, and both are positive (unstable)\n",
    "   - $|r| \\le 1$, in which case the radical has imaginary value and there are poles at $-\\omega_c (r \\pm i \\sqrt {1 - r^2})$\n",
    "       * If $r \\ne 0$, the real portion has sign opposite r (stable iff $r > 0$)\n",
    "       * If $r = 0$, these two poles lie on the imaginary axis (marginal)\n",
    "       \n",
    "Therefore, the filter is stable if $r > 0$, and will self-oscillate if $r = 0$.\n",
    "\n",
    "Below is the frequency response of the filter:"
   ]
  },
  {
   "cell_type": "code",
   "execution_count": 7,
   "metadata": {
    "editable": true,
    "slideshow": {
     "slide_type": ""
    },
    "tags": []
   },
   "outputs": [
    {
     "data": {
      "application/vnd.jupyter.widget-view+json": {
       "model_id": "cbb7e6ef6d6d49989f711795d183b9ea",
       "version_major": 2,
       "version_minor": 0
      },
      "text/plain": [
       "interactive(children=(FloatSlider(value=2000.0, description='$f_c$', max=20000.0, step=500.0), FloatSlider(val…"
      ]
     },
     "metadata": {},
     "output_type": "display_data"
    }
   ],
   "source": [
    "def mag2db(x):\n",
    "    return 20*log(x, 10)\n",
    "\n",
    "#def plot_tf(tf, var, domain=(1, 1e6), **kwargs):\n",
    "#    tf = tf.substitute({var:var*i})\n",
    "#    return plot_semilogx(mag2db(abs(tf)), (var, domain[0], domain[1]), base=2, **kwargs)\n",
    "\n",
    "def log_transform(func, var, domain, base):\n",
    "    return (func.subs({var:base**var}), (log(domain[0], base), log(domain[1], base)))\n",
    "\n",
    "def plot_tf(tf, var, disp_slope=False, domain=(250, 1e6), log_xfm=True, rng=(-40, 15), **kwargs):\n",
    "    tf = tf.subs({var:var*I})\n",
    "    if log_xfm:\n",
    "        (tf, domain) = log_transform(tf, var, domain, 2)\n",
    "    domain = (var, domain[0], domain[1])\n",
    "    slope = diff(mag2db(abs(tf)), var)\n",
    "    m = plotting.plot(mag2db(abs(tf)), domain, ymin=rng[0], ymax=rng[1], plot_points=50, show=False, **kwargs)\n",
    "    if disp_slope:\n",
    "        m.extend(plotting.plot(slope, domain, plot_points=20, linestyle='--', show=False, **kwargs))\n",
    "    p = plotting.plot(arg(tf), domain, ymin=-pi, ymax=pi, plot_points=20, show=False, **kwargs)\n",
    "    return (m, p)\n",
    "    \n",
    "@interact\n",
    "def _(f=slider(min=0, max=20000, step=500, value=2000, description='$f_c$'),\n",
    "      R=slider(min=0, max=5, value=1, step=0.2),\n",
    "      C=slider(min=0, max=10, value=1, step=0.2),\n",
    "      show_derivs=checkbox(value=False, description='Show Filter Slope')):\n",
    "    w=2*pi*f\n",
    "    l = L.subs({omega_c: w, r: R, c: C})\n",
    "    b = B.subs({omega_c: w, r: R, c: C})\n",
    "    h = H.subs({omega_c: w, r: R, c: C})\n",
    "    lp = plot_tf(l, s, show_derivs, color='blue')\n",
    "    bp = plot_tf(b, s, show_derivs, color='red')\n",
    "    hp = plot_tf(h, s, show_derivs, color='green')\n",
    "    lp[0].extend(bp[0])\n",
    "    lp[0].extend(hp[0])\n",
    "    lp[1].extend(bp[1])\n",
    "    lp[1].extend(hp[1])\n",
    "    lp[0].show()\n",
    "    lp[1].show()"
   ]
  },
  {
   "cell_type": "markdown",
   "metadata": {},
   "source": [
    "Notice that R controls the resonance of the filter, while C acts purely as an inverse gain control to the band pass filter and does not affect the low pass or high pass performance.  For larger values of R (less resonance), the band pass filter acts like a single EQ, with width controlled by R and gain by C.\n",
    "\n",
    "Now let's look at the different sum filters (notch, high cut, low cut):"
   ]
  },
  {
   "cell_type": "code",
   "execution_count": 8,
   "metadata": {},
   "outputs": [
    {
     "data": {
      "application/vnd.jupyter.widget-view+json": {
       "model_id": "f2124e2d1d59411f8fdf82625f0d6167",
       "version_major": 2,
       "version_minor": 0
      },
      "text/plain": [
       "interactive(children=(FloatSlider(value=2000.0, description='f', max=20000.0, step=500.0), FloatSlider(value=1…"
      ]
     },
     "metadata": {},
     "output_type": "display_data"
    }
   ],
   "source": [
    "@interact\n",
    "def _(f=slider(min=0, max=20000, step=500, value=2000, label='$f_c$'),\n",
    "      R=slider(min=0, max=5, value=1, step=0.2),\n",
    "      C=slider(min=0, max=10, value=1, step=0.2),\n",
    "      show_derivs=checkbox(value=False, label='Show Filter Slope')):\n",
    "    w=2*pi*f\n",
    "    hi_cut = (L+B).subs({omega_c:w, r:R, c:C})\n",
    "    lo_cut = (B+H).subs({omega_c:w, r:R, c:C})\n",
    "    notch = (L+H).subs({omega_c:w, r:R, c:C})\n",
    "    hc = plot_tf(hi_cut, s, show_derivs, color='blue')\n",
    "    nh = plot_tf(notch, s, show_derivs, color='red')\n",
    "    lc = plot_tf(lo_cut, s, show_derivs, color='green')\n",
    "    hc[0].extend(nh[0])\n",
    "    hc[0].extend(lc[0])\n",
    "    hc[1].extend(nh[1])\n",
    "    hc[1].extend(lc[1])\n",
    "    hc[0].show()\n",
    "    hc[1].show()"
   ]
  },
  {
   "cell_type": "markdown",
   "metadata": {},
   "source": [
    "One interesting thing to note here is that the performance of the notch filter is quite good.  Though both the low pass and high pass filters only provide ~6dB of attenuation here (neglecting resonance), they have nearly total rejection at the cutoff frequency because when added together their signals are out of phase.  Also of note is that the C parameter now acts similarly (qualitatively, if not physically) to the response usually associated with a \"resonance\" knob for the low/hi cut filters.\n",
    "\n",
    "At this point, we're going to fix c at 1.  We'll apply the bilinear transform to turn our continuous time model into a discrete time model, and make the substitution:\n",
    "$$ \\omega_d = \\frac {\\omega_c T_s} 2 $$"
   ]
  },
  {
   "cell_type": "code",
   "execution_count": 9,
   "metadata": {},
   "outputs": [
    {
     "data": {
      "text/latex": [
       "$$ \\frac L Z = \\frac{- \\omega_{d}^{2} z_{i}^{2} - 2 \\omega_{d}^{2} z_{i} - \\omega_{d}^{2}}{- \\omega_{d}^{2} - 2 \\omega_{d} r + z_{i}^{2} \\left(- \\omega_{d}^{2} + 2 \\omega_{d} r - 1\\right) + z_{i} \\left(2 - 2 \\omega_{d}^{2}\\right) - 1}$$"
      ],
      "text/plain": [
       "<IPython.core.display.Latex object>"
      ]
     },
     "metadata": {},
     "output_type": "display_data"
    },
    {
     "data": {
      "text/latex": [
       "$$ \\frac B Z = \\frac{\\omega_{d} z_{i}^{2} - \\omega_{d}}{- c \\omega_{d}^{2} - 2 c \\omega_{d} r - c + z_{i}^{2} \\left(- c \\omega_{d}^{2} + 2 c \\omega_{d} r - c\\right) + z_{i} \\left(- 2 c \\omega_{d}^{2} + 2 c\\right)}$$"
      ],
      "text/plain": [
       "<IPython.core.display.Latex object>"
      ]
     },
     "metadata": {},
     "output_type": "display_data"
    },
    {
     "data": {
      "text/latex": [
       "$$ \\frac H Z = \\frac{- z_{i}^{2} + 2 z_{i} - 1}{- \\omega_{d}^{2} - 2 \\omega_{d} r + z_{i}^{2} \\left(- \\omega_{d}^{2} + 2 \\omega_{d} r - 1\\right) + z_{i} \\left(2 - 2 \\omega_{d}^{2}\\right) - 1}$$"
      ],
      "text/plain": [
       "<IPython.core.display.Latex object>"
      ]
     },
     "metadata": {},
     "output_type": "display_data"
    }
   ],
   "source": [
    "t = Symbol('t', positive=True)\n",
    "var('z_i t omega_d') # note - z_i = z^-1.  This makes the computer algebra easier\n",
    "bilinear = (2/t)*(1-z_i)/(1+z_i)\n",
    "Lz = L.subs({s:bilinear, omega_c: 2*omega_d/t}).cancel().collect(z_i)\n",
    "Bz = B.subs({s:bilinear, omega_c: 2*omega_d/t}).cancel().collect(z_i)\n",
    "Hz = H.subs({s:bilinear, omega_c: 2*omega_d/t}).cancel().collect(z_i)\n",
    "display(Latex(\"$$ \\\\frac L Z = \" + latex(Lz) + \"$$\"))\n",
    "display(Latex(\"$$ \\\\frac B Z = \" + latex(Bz) + \"$$\"))\n",
    "display(Latex(\"$$ \\\\frac H Z = \" + latex(Hz) + \"$$\"))"
   ]
  },
  {
   "cell_type": "code",
   "execution_count": 10,
   "metadata": {},
   "outputs": [
    {
     "data": {
      "application/vnd.jupyter.widget-view+json": {
       "model_id": "a98447003b2340b6bdde2994f71e2d3f",
       "version_major": 2,
       "version_minor": 0
      },
      "text/plain": [
       "interactive(children=(FloatSlider(value=2000.0, description='$f_c$', max=20000.0, step=500.0), FloatSlider(val…"
      ]
     },
     "metadata": {},
     "output_type": "display_data"
    }
   ],
   "source": [
    "#TODO: Have to fix this cell for sympy instead of sage\n",
    "\n",
    "def plot_ztf(tf, var, samp_time, domain=None, rng=(-40, 15), **kwargs):\n",
    "    if domain is None:\n",
    "        domain = (250, pi/samp_time)\n",
    "    tf = tf.subs({var:E**(-I*var*samp_time)})\n",
    "    (tf, domain) = log_transform(tf, var, domain, 2)\n",
    "    domain = (var, domain[0], domain[1])\n",
    "    p = plotting.plot(mag2db(abs(tf)), domain, ymin=rng[0], ymax=rng[1], plot_points=50, **kwargs)\n",
    "    p2 = plotting.plot(arg(tf), domain, ymin=-pi, ymax=pi, plot_points=20, **kwargs)\n",
    "    return (p, p2)\n",
    "    \n",
    "@interact\n",
    "def _(f=slider(min=0, max=20000, step=500, value=2000, description='$f_c$'),\n",
    "      R=slider(min=0, max=5, value=1, step=0.2),\n",
    "      C=slider(min=0, max=10, value=1, step=0.2),\n",
    "      show_analog=checkbox(value=False, description='Show Analog')):\n",
    "    Ts = 1/44100\n",
    "    w=2*pi*f\n",
    "    w_d=w*Ts/2\n",
    "    l = Lz.subs({omega_d: w_d, r: R, c: C, t: Ts})\n",
    "    b = Bz.subs({omega_d: w_d, r: R, c: C, t: Ts})\n",
    "    h = Hz.subs({omega_d: w_d, r: R, c: C, t: Ts})\n",
    "    (m, p) = plot_ztf(l, z_i, Ts, color='blue')\n",
    "    (m2, p2) = plot_ztf(b, z_i, Ts, color='red')\n",
    "    (m3, p3) = plot_ztf(h, z_i, Ts, color='green')\n",
    "    m.extend(m2)\n",
    "    m.extend(m3)\n",
    "    p.extend(p2)\n",
    "    p.extend(p3)\n",
    "    \n",
    "    if show_analog:\n",
    "        domain = (250, pi/Ts)\n",
    "        l = L.subs({omega_c: w, r: R, c: C})\n",
    "        b = B.subs({omega_c: w, r: R, c: C})\n",
    "        h = H.subs({omega_c: w, r: R, c: C})\n",
    "        (m1, p1) = plot_tf(l, s, domain=domain, linestyle='--', color='blue')\n",
    "        (m2, p2) = plot_tf(b, s, domain=domain, linestyle='--', color='red')\n",
    "        (m3, p3) = plot_tf(h, s, domain=domain, linestyle='--', color='green')\n",
    "        m.extend(m1)\n",
    "        m.extend(m2)\n",
    "        m.extend(m3)\n",
    "        p.extend(p1)\n",
    "        p.extend(p2)\n",
    "        p.extend(p3)\n",
    "    m.show()\n",
    "    p.show()"
   ]
  },
  {
   "cell_type": "markdown",
   "metadata": {},
   "source": [
    "Notice that for low values of the cutoff frequency the z transformed filter is accurate, but as $f_c$ approaches $f_s/2$ it becomes less and less accurate (set, for example, cutoff to to 15k and R to 0.2).  This is because the bilinear transform non-linearly warps the frequency space when it transforms the interval $(0, f_s)$ into $(0, \\pi)$.  We help fix this issue by \"pre-warping\" the cutoff frequency to compensate.  This has the effect of steepening the frequency response curves as the frequency approaches half the sample rate, but allows for cutoff frequency matching, as shown in the band pass filter:"
   ]
  },
  {
   "cell_type": "code",
   "execution_count": 13,
   "metadata": {},
   "outputs": [
    {
     "data": {
      "application/vnd.jupyter.widget-view+json": {
       "model_id": "2faa29e61e3c424c9c3d618e6b1fe264",
       "version_major": 2,
       "version_minor": 0
      },
      "text/plain": [
       "Interactive function <function _ at 0x7f3be87eb550> with 2 widgets\n",
       "  f: TransformIntSlider(value=14000, min=40…"
      ]
     },
     "metadata": {},
     "output_type": "display_data"
    }
   ],
   "source": [
    "#TODO: Have to fix this cell for sympy instead of sage\n",
    "\n",
    "@interact\n",
    "def _(f=slider(4000, 20000, step_size=500, default=14000, label='$f_c$'),\n",
    "      R=slider(0, 1, default=0.2, step_size=0.1)):\n",
    "    w=2*pi*f # cutoff frequency 14kHz\n",
    "    Ts = 1/44100 # sample rate 44.1kHz\n",
    "    w_d = w*Ts/2\n",
    "    domain=(1e4, pi/Ts)\n",
    "    b_uncompensated = Bz.substitute(omega_d=w_d, r=R, c=1, t=Ts)\n",
    "    b_compensated = Bz.substitute(omega_d=tan(w_d), r=R, c=1, t=Ts)\n",
    "    b_analog = B.substitute(omega_c=w, r=R, c=1)\n",
    "    (m, p) = plot_ztf(b_uncompensated, z_i, Ts, domain=domain)\n",
    "    (m, p) = add_tuples((m, p), plot_ztf(b_compensated, z_i, Ts, domain=domain, linestyle=':'))\n",
    "    (m, p) = add_tuples((m, p), plot_tf(b_analog, s, domain=domain, linestyle='--'))\n",
    "    g = graphics_array((m, p), ncols=1)\n",
    "    g.show()"
   ]
  },
  {
   "cell_type": "markdown",
   "metadata": {},
   "source": [
    "Now, we can apply the prewarp to the transfer function in Z space:"
   ]
  },
  {
   "cell_type": "code",
   "execution_count": 8,
   "metadata": {},
   "outputs": [],
   "source": [
    "Lz_pw = Lz.subs(omega_d, tan(omega_d))\n",
    "Bz_pw = Bz.subs(omega_d, tan(omega_d))\n",
    "Hz_pw = Hz.subs(omega_d, tan(omega_d))\n",
    "#pretty_print(LatexExpr(\"\\\\frac L Z = \") + latex(Lz_pw))\n",
    "#pretty_print(LatexExpr(\"\\\\frac B Z = \") + latex(Bz_pw))\n",
    "#pretty_print(LatexExpr(\"\\\\frac H Z = \") + latex(Hz_pw))"
   ]
  },
  {
   "cell_type": "markdown",
   "metadata": {},
   "source": [
    "Finally, we manipulate the transfer function into the form:\n",
    "\n",
    "$$ F = \\frac {\\sum_{k=0}^N {B_k z^{-k}}} {1 - \\sum_{k=1}^M {A_k z^{-k}}} $$\n",
    "\n",
    "And therefore we can write, in the z domain:\n",
    "\n",
    "$$ F(z) = \\sum_{k=0}^N {B_k X(z) z^{-k}} + \\sum_{k=1}^M {A_k F(z) z^{-k}} $$\n",
    "\n"
   ]
  },
  {
   "cell_type": "code",
   "execution_count": 11,
   "metadata": {},
   "outputs": [
    {
     "data": {
      "text/latex": [
       "$$ L_z = \\frac{L_{z} z_{i}^{2} \\left(\\omega_{p}^{2} - 2 \\omega_{p} r + 1\\right) + L_{z} z_{i} \\left(2 \\omega_{p}^{2} - 2\\right) - X \\omega_{p}^{2} z_{i}^{2} - 2 X \\omega_{p}^{2} z_{i} - X \\omega_{p}^{2}}{- \\omega_{p}^{2} - 2 \\omega_{p} r - 1}$$"
      ],
      "text/plain": [
       "<IPython.core.display.Latex object>"
      ]
     },
     "metadata": {},
     "output_type": "display_data"
    },
    {
     "data": {
      "text/latex": [
       "$$ B_z = \\frac{B_{z} z_{i}^{2} \\left(\\omega_{p}^{2} - 2 \\omega_{p} r + 1\\right) + B_{z} z_{i} \\left(2 \\omega_{p}^{2} - 2\\right) + X \\omega_{p} z_{i}^{2} - X \\omega_{p}}{- \\omega_{p}^{2} - 2 \\omega_{p} r - 1}$$"
      ],
      "text/plain": [
       "<IPython.core.display.Latex object>"
      ]
     },
     "metadata": {},
     "output_type": "display_data"
    },
    {
     "data": {
      "text/latex": [
       "$$ H_z = \\frac{H_{z} z_{i}^{2} \\left(\\omega_{p}^{2} - 2 \\omega_{p} r + 1\\right) + H_{z} z_{i} \\left(2 \\omega_{p}^{2} - 2\\right) - X z_{i}^{2} + 2 X z_{i} - X}{- \\omega_{p}^{2} - 2 \\omega_{p} r - 1}$$"
      ],
      "text/plain": [
       "<IPython.core.display.Latex object>"
      ]
     },
     "metadata": {},
     "output_type": "display_data"
    },
    {
     "data": {
      "text/latex": [
       "$$ \\mathrm{Where} \\: \\omega_{p} = \\tan{\\left(\\omega_{d} \\right)}$$"
      ],
      "text/plain": [
       "<IPython.core.display.Latex object>"
      ]
     },
     "metadata": {},
     "output_type": "display_data"
    }
   ],
   "source": [
    "def bilinear_to_sequence(F, var, Fvar, Xvar):\n",
    "    F_a = denom(F).as_poly(var).all_coeffs()[::-1]\n",
    "    scalar = F_a[0]\n",
    "    F_a = [-x for x in F_a[1:]]\n",
    "    F_b = [x for x in numer(F).as_poly(var).all_coeffs()[::-1]]\n",
    "    return ((1/scalar)*(sum(F_b[k]*Xvar*var**k for k in range(len(F_b)))\n",
    "                              + sum(F_a[k]*Fvar*var**(k+1) for k in range(len(F_a)))))\n",
    "\n",
    "z = var('z')\n",
    "omega_p = var('omega_p')\n",
    "L_z = var('L_z')\n",
    "B_z = var('B_z')\n",
    "H_z = var('H_z')\n",
    "\n",
    "L_exp = bilinear_to_sequence(Lz, z_i, L_z, X).subs({omega_d: omega_p})\n",
    "B_exp = bilinear_to_sequence(Bz, z_i, B_z, X).subs({c: 1, omega_d: omega_p})\n",
    "H_exp = bilinear_to_sequence(Hz, z_i, H_z, X).subs({omega_d: omega_p})\n",
    "\n",
    "display(Latex(\"$$ L_z = \"+ latex(L_exp) +\"$$\"))\n",
    "display(Latex(\"$$ B_z = \"+ latex(B_exp) +\"$$\"))\n",
    "display(Latex(\"$$ H_z = \"+ latex(H_exp) +\"$$\"))\n",
    "display(Latex(\"$$ \\\\mathrm{Where} \\\\: \" + latex(omega_p) + ' = ' + latex(tan(omega_d)) + \"$$\"))"
   ]
  },
  {
   "cell_type": "code",
   "execution_count": null,
   "metadata": {},
   "outputs": [],
   "source": []
  },
  {
   "cell_type": "code",
   "execution_count": null,
   "metadata": {},
   "outputs": [],
   "source": []
  }
 ],
 "metadata": {
  "kernelspec": {
   "display_name": "Python 3 (ipykernel)",
   "language": "python",
   "name": "python3"
  },
  "language_info": {
   "codemirror_mode": {
    "name": "ipython",
    "version": 3
   },
   "file_extension": ".py",
   "mimetype": "text/x-python",
   "name": "python",
   "nbconvert_exporter": "python",
   "pygments_lexer": "ipython3",
   "version": "3.12.0"
  }
 },
 "nbformat": 4,
 "nbformat_minor": 4
}
