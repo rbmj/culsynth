{
 "cells": [
  {
   "cell_type": "code",
   "execution_count": 1,
   "id": "21f11cd4-294c-469d-b1d8-63bb28215a6c",
   "metadata": {},
   "outputs": [],
   "source": [
    "import culsynth\n",
    "import matplotlib.pyplot as plt\n",
    "from ipywidgets import interact, FloatSlider, IntSlider, Checkbox, ToggleButton\n",
    "import math\n",
    "import numpy"
   ]
  },
  {
   "cell_type": "code",
   "execution_count": 2,
   "id": "37f860f0-3b63-4b87-88a3-2657f3f043e0",
   "metadata": {},
   "outputs": [
    {
     "name": "stderr",
     "output_type": "stream",
     "text": [
      "Widget Javascript not detected.  It may not be installed or enabled properly. Reconnecting the current kernel may help.\n"
     ]
    },
    {
     "data": {
      "application/vnd.jupyter.widget-view+json": {
       "model_id": "574897b002ac4dc7a243db23be19a6cb"
      }
     },
     "metadata": {},
     "output_type": "display_data"
    }
   ],
   "source": [
    "osc = culsynth.OscFxP()\n",
    "filt = culsynth.FiltFxP()\n",
    "\n",
    "@interact\n",
    "def test_filt(cutoff=IntSlider(min=0, max=127, value=69),\n",
    "              resonance=IntSlider(min=0, max=65535, value=0),\n",
    "              plot_low=Checkbox(value=True, description='Plot Low-Pass'),\n",
    "              plot_band=Checkbox(value=False, description='Plot Band-Pass'),\n",
    "              plot_high=Checkbox(value=False, description='Plot High-Pass'),\n",
    "              redraw=ToggleButton(description='Redraw')):\n",
    "    cutoff_freq = 440*math.exp2((cutoff-69)/12)\n",
    "    sample_rate = 48000\n",
    "    num_periods = 3\n",
    "    smp_three = int(num_periods*sample_rate/440)\n",
    "    num_samples = max([smp_three, 4096])\n",
    "    saw = osc.process([69 << 9]*num_samples, [0]*num_samples)[3]\n",
    "    (low, band, high) = filt.process(saw, [cutoff << 9]*num_samples, [resonance]*num_samples)\n",
    "    t = [x/sample_rate for x in range(smp_three)]\n",
    "    plot_data = [\n",
    "        (saw, True),\n",
    "        (low, plot_low),\n",
    "        (band, plot_band),\n",
    "        (high, plot_high)]\n",
    "    for p in plot_data:\n",
    "        if p[1]:\n",
    "            plt.plot(t, p[0][:smp_three])\n",
    "    plt.show()\n",
    "    highest_mag = 0\n",
    "    f = numpy.fft.fftfreq(4096)*sample_rate\n",
    "    for p in plot_data:\n",
    "        if p[1]:\n",
    "            points = numpy.abs(numpy.fft.fft(p[0][:4096]))\n",
    "            plt.loglog([x for x in zip(f, points) if x[0] > 0])\n",
    "            h = max(points)\n",
    "            if h > highest_mag:\n",
    "                highest_mag = h\n",
    "    plt.plot([cutoff_freq, cutoff_freq], [0, highest_mag], ':')\n",
    "    plt.show()\n"
   ]
  },
  {
   "cell_type": "code",
   "execution_count": null,
   "id": "b357ba0a-9470-496b-90e5-3b62b22704a8",
   "metadata": {},
   "outputs": [
    {
     "data": {
      "application/vnd.jupyter.widget-view+json": {
       "model_id": "5a6f8aaab4384374b9ee9892dffaf9bd",
       "version_major": 2,
       "version_minor": 0
      },
      "text/plain": [
       "interactive(children=(IntSlider(value=69, description='cutoff', max=127), FloatSlider(value=0.0, description='…"
      ]
     },
     "metadata": {},
     "output_type": "display_data"
    }
   ],
   "source": [
    "\n",
    "osc_f32 = culsynth.OscFloat()\n",
    "filt_f32 = culsynth.FiltFloat()\n",
    "\n",
    "@interact\n",
    "def test_filt(cutoff=IntSlider(min=0, max=127, value=69),\n",
    "              resonance=FloatSlider(min=0, max=1, value=0),\n",
    "              plot_low=Checkbox(value=True, description='Plot Low-Pass'),\n",
    "              plot_band=Checkbox(value=False, description='Plot Band-Pass'),\n",
    "              plot_high=Checkbox(value=False, description='Plot High-Pass'),\n",
    "              redraw=ToggleButton(description='Redraw')):\n",
    "    cutoff_freq = 440*math.exp2((cutoff-69)/12)\n",
    "    sample_rate = 44100\n",
    "    num_periods = 3\n",
    "    smp_three = int(num_periods*sample_rate/440)\n",
    "    num_samples = max([smp_three, 4096])\n",
    "    saw = osc_f32.process([69]*num_samples, [0]*num_samples)[3]\n",
    "    (low, band, high) = filt_f32.process(saw, [cutoff]*num_samples, [resonance]*num_samples)\n",
    "    t = [x/sample_rate for x in range(smp_three)]\n",
    "    plot_data = [\n",
    "        (saw, True),\n",
    "        (low, plot_low),\n",
    "        (band, plot_band),\n",
    "        (high, plot_high)]\n",
    "    for p in plot_data:\n",
    "        if p[1]:\n",
    "            plt.plot(t, p[0][:smp_three])\n",
    "    plt.show()\n",
    "    highest_mag = 0\n",
    "    f = numpy.fft.fftfreq(4096)*sample_rate\n",
    "    for p in plot_data:\n",
    "        if p[1]:\n",
    "            points = numpy.abs(numpy.fft.fft(p[0][:4096]))\n",
    "            plt.loglog([x for x in zip(f, points) if x[0] > 0])\n",
    "            h = max(points)\n",
    "            if h > highest_mag:\n",
    "                highest_mag = h\n",
    "    plt.plot([cutoff_freq, cutoff_freq], [0, highest_mag], ':')\n",
    "    plt.show()\n"
   ]
  },
  {
   "cell_type": "code",
   "execution_count": null,
   "id": "83ae0e53-68cb-4142-b714-2e703bdb5fe1",
   "metadata": {},
   "outputs": [],
   "source": []
  }
 ],
 "metadata": {
  "kernelspec": {
   "display_name": "Python 3 (ipykernel)",
   "language": "python",
   "name": "python3"
  },
  "language_info": {
   "codemirror_mode": {
    "name": "ipython",
    "version": 3
   },
   "file_extension": ".py",
   "mimetype": "text/x-python",
   "name": "python",
   "nbconvert_exporter": "python",
   "pygments_lexer": "ipython3",
   "version": "3.12.1"
  }
 },
 "nbformat": 4,
 "nbformat_minor": 5
}
