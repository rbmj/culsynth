{
 "cells": [
  {
   "cell_type": "code",
   "execution_count": 2,
   "id": "b6206016-46aa-4420-a1a8-f8f2bd1670ba",
   "metadata": {
    "jp-MarkdownHeadingCollapsed": true
   },
   "outputs": [
    {
     "ename": "ArgumentError",
     "evalue": "argument 9: TypeError: expected LP_c_ushort instance instead of c_short_Array_288000",
     "output_type": "error",
     "traceback": [
      "\u001b[0;31m---------------------------------------------------------------------------\u001b[0m",
      "\u001b[0;31mArgumentError\u001b[0m                             Traceback (most recent call last)",
      "File \u001b[0;32m/usr/lib/python3/dist-packages/ipywidgets/widgets/interaction.py:217\u001b[0m, in \u001b[0;36minteractive.update\u001b[0;34m(self, *args)\u001b[0m\n\u001b[1;32m    215\u001b[0m     value \u001b[38;5;241m=\u001b[39m widget\u001b[38;5;241m.\u001b[39mget_interact_value()\n\u001b[1;32m    216\u001b[0m     \u001b[38;5;28mself\u001b[39m\u001b[38;5;241m.\u001b[39mkwargs[widget\u001b[38;5;241m.\u001b[39m_kwarg] \u001b[38;5;241m=\u001b[39m value\n\u001b[0;32m--> 217\u001b[0m \u001b[38;5;28mself\u001b[39m\u001b[38;5;241m.\u001b[39mresult \u001b[38;5;241m=\u001b[39m \u001b[38;5;28;43mself\u001b[39;49m\u001b[38;5;241;43m.\u001b[39;49m\u001b[43mf\u001b[49m\u001b[43m(\u001b[49m\u001b[38;5;241;43m*\u001b[39;49m\u001b[38;5;241;43m*\u001b[39;49m\u001b[38;5;28;43mself\u001b[39;49m\u001b[38;5;241;43m.\u001b[39;49m\u001b[43mkwargs\u001b[49m\u001b[43m)\u001b[49m\n\u001b[1;32m    218\u001b[0m \u001b[38;5;28;01mif\u001b[39;00m \u001b[38;5;28mself\u001b[39m\u001b[38;5;241m.\u001b[39mauto_display \u001b[38;5;129;01mand\u001b[39;00m \u001b[38;5;28mself\u001b[39m\u001b[38;5;241m.\u001b[39mresult \u001b[38;5;129;01mis\u001b[39;00m \u001b[38;5;129;01mnot\u001b[39;00m \u001b[38;5;28;01mNone\u001b[39;00m:\n\u001b[1;32m    219\u001b[0m     display(\u001b[38;5;28mself\u001b[39m\u001b[38;5;241m.\u001b[39mresult)\n",
      "Cell \u001b[0;32mIn[2], line 18\u001b[0m, in \u001b[0;36m_\u001b[0;34m(A, D, S, R)\u001b[0m\n\u001b[1;32m     16\u001b[0m s \u001b[38;5;241m=\u001b[39m [\u001b[38;5;28mint\u001b[39m(S\u001b[38;5;241m*\u001b[39m(\u001b[38;5;241m1\u001b[39m \u001b[38;5;241m<<\u001b[39m\u001b[38;5;241m16\u001b[39m))]\u001b[38;5;241m*\u001b[39msamp_rate\u001b[38;5;241m*\u001b[39m\u001b[38;5;241m6\u001b[39m\n\u001b[1;32m     17\u001b[0m r \u001b[38;5;241m=\u001b[39m [\u001b[38;5;28mint\u001b[39m(R\u001b[38;5;241m*\u001b[39m(\u001b[38;5;241m1\u001b[39m \u001b[38;5;241m<<\u001b[39m\u001b[38;5;241m13\u001b[39m))]\u001b[38;5;241m*\u001b[39msamp_rate\u001b[38;5;241m*\u001b[39m\u001b[38;5;241m6\u001b[39m\n\u001b[0;32m---> 18\u001b[0m data \u001b[38;5;241m=\u001b[39m \u001b[43menv\u001b[49m\u001b[38;5;241;43m.\u001b[39;49m\u001b[43mprocess\u001b[49m\u001b[43m(\u001b[49m\u001b[43mgate\u001b[49m\u001b[43m,\u001b[49m\u001b[43m \u001b[49m\u001b[43ma\u001b[49m\u001b[43m,\u001b[49m\u001b[43m \u001b[49m\u001b[43md\u001b[49m\u001b[43m,\u001b[49m\u001b[43m \u001b[49m\u001b[43ms\u001b[49m\u001b[43m,\u001b[49m\u001b[43m \u001b[49m\u001b[43mr\u001b[49m\u001b[43m)\u001b[49m\n\u001b[1;32m     19\u001b[0m plt\u001b[38;5;241m.\u001b[39mplot(\n\u001b[1;32m     20\u001b[0m     [x\u001b[38;5;241m/\u001b[39m\u001b[38;5;28mfloat\u001b[39m(samp_rate) \u001b[38;5;28;01mfor\u001b[39;00m x \u001b[38;5;129;01min\u001b[39;00m \u001b[38;5;28mrange\u001b[39m(samp_rate\u001b[38;5;241m*\u001b[39m\u001b[38;5;241m6\u001b[39m)],\n\u001b[1;32m     21\u001b[0m     [x\u001b[38;5;241m/\u001b[39m(\u001b[38;5;241m1\u001b[39m \u001b[38;5;241m<<\u001b[39m \u001b[38;5;241m16\u001b[39m) \u001b[38;5;28;01mfor\u001b[39;00m x \u001b[38;5;129;01min\u001b[39;00m data]\n\u001b[1;32m     22\u001b[0m )\n\u001b[1;32m     23\u001b[0m plt\u001b[38;5;241m.\u001b[39mshow()\n",
      "File \u001b[0;32m~/culsynth/py/culsynth.py:95\u001b[0m, in \u001b[0;36mEnvFxP.process\u001b[0;34m(self, gate, attack, decay, sustain, release)\u001b[0m\n\u001b[1;32m     93\u001b[0m sustain_arr \u001b[38;5;241m=\u001b[39m (c_uint16\u001b[38;5;241m*\u001b[39mnum_samples)(\u001b[38;5;241m*\u001b[39msustain)\n\u001b[1;32m     94\u001b[0m release_arr \u001b[38;5;241m=\u001b[39m (c_uint16\u001b[38;5;241m*\u001b[39mnum_samples)(\u001b[38;5;241m*\u001b[39mrelease)\n\u001b[0;32m---> 95\u001b[0m proc \u001b[38;5;241m=\u001b[39m \u001b[43m_culsynth_env_i16_process\u001b[49m\u001b[43m(\u001b[49m\u001b[38;5;28;43mself\u001b[39;49m\u001b[38;5;241;43m.\u001b[39;49m\u001b[43mptr\u001b[49m\u001b[43m,\u001b[49m\u001b[43m \u001b[49m\u001b[43m_culsynth_get_sr_480\u001b[49m\u001b[43m(\u001b[49m\u001b[43m)\u001b[49m\u001b[43m,\u001b[49m\n\u001b[1;32m     96\u001b[0m \u001b[43m    \u001b[49m\u001b[43mnum_samples\u001b[49m\u001b[43m,\u001b[49m\u001b[43m \u001b[49m\u001b[43mgate_arr\u001b[49m\u001b[43m,\u001b[49m\u001b[43m \u001b[49m\u001b[43mattack_arr\u001b[49m\u001b[43m,\u001b[49m\u001b[43m \u001b[49m\u001b[43mdecay_arr\u001b[49m\u001b[43m,\u001b[49m\u001b[43m \u001b[49m\u001b[43msustain_arr\u001b[49m\u001b[43m,\u001b[49m\u001b[43m \u001b[49m\u001b[43mrelease_arr\u001b[49m\u001b[43m,\u001b[49m\u001b[43m \u001b[49m\u001b[43mout\u001b[49m\u001b[43m)\u001b[49m\n\u001b[1;32m     97\u001b[0m \u001b[38;5;28;01mreturn\u001b[39;00m out\n",
      "\u001b[0;31mArgumentError\u001b[0m: argument 9: TypeError: expected LP_c_ushort instance instead of c_short_Array_288000"
     ]
    }
   ],
   "source": [
    "import culsynth\n",
    "import matplotlib.pyplot as plt\n",
    "from ipywidgets import interact, FloatSlider as slider\n",
    "import math\n",
    "\n",
    "@interact\n",
    "def _(A=slider(min=0, max=7.5, step=0.1, value=0.3),\n",
    "      D=slider(min=0, max=7.5, step=0.1, value=0.3),\n",
    "      S=slider(min=0, max=0.999, step=0.1, value=0.5),\n",
    "      R=slider(min=0, max=7.5, step=0.1, value=0.5)):\n",
    "    samp_rate = 48000\n",
    "    env = culsynth.EnvFxP()\n",
    "    gate = [1 << 12]*samp_rate*4 + [0]*samp_rate*2\n",
    "    a = [int(A*(1 <<13))]*samp_rate*6\n",
    "    d = [int(D*(1 <<13))]*samp_rate*6\n",
    "    s = [int(S*(1 <<16))]*samp_rate*6\n",
    "    r = [int(R*(1 <<13))]*samp_rate*6\n",
    "    data = env.process(gate, a, d, s, r)\n",
    "    plt.plot(\n",
    "        [x/float(samp_rate) for x in range(samp_rate*6)],\n",
    "        [x/(1 << 16) for x in data]\n",
    "    )\n",
    "    plt.show()\n"
   ]
  },
  {
   "cell_type": "code",
   "execution_count": null,
   "id": "b357ba0a-9470-496b-90e5-3b62b22704a8",
   "metadata": {},
   "outputs": [],
   "source": []
  },
  {
   "cell_type": "code",
   "execution_count": null,
   "id": "e2744cc3",
   "metadata": {},
   "outputs": [],
   "source": []
  }
 ],
 "metadata": {
  "kernelspec": {
   "display_name": "Python 3 (ipykernel)",
   "language": "python",
   "name": "python3"
  },
  "language_info": {
   "codemirror_mode": {
    "name": "ipython",
    "version": 3
   },
   "file_extension": ".py",
   "mimetype": "text/x-python",
   "name": "python",
   "nbconvert_exporter": "python",
   "pygments_lexer": "ipython3",
   "version": "3.11.7"
  }
 },
 "nbformat": 4,
 "nbformat_minor": 5
}
