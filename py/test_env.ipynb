{
 "cells": [
  {
   "cell_type": "code",
   "execution_count": 1,
   "id": "b6206016-46aa-4420-a1a8-f8f2bd1670ba",
   "metadata": {
    "jp-MarkdownHeadingCollapsed": true
   },
   "outputs": [
    {
     "data": {
      "application/vnd.jupyter.widget-view+json": {
       "model_id": "cef1210ad0e34f3381837a8be9af0ff7",
       "version_major": 2,
       "version_minor": 0
      },
      "text/plain": [
       "interactive(children=(FloatSlider(value=0.3, description='A', max=2.0), FloatSlider(value=0.3, description='D'…"
      ]
     },
     "metadata": {},
     "output_type": "display_data"
    }
   ],
   "source": [
    "import janus\n",
    "import matplotlib.pyplot as plt\n",
    "from ipywidgets import interact, FloatSlider as slider\n",
    "import math\n",
    "\n",
    "@interact\n",
    "def _(A=slider(min=0, max=7.5, step=0.1, value=0.3),\n",
    "      D=slider(min=0, max=7.5, step=0.1, value=0.3),\n",
    "      S=slider(min=0, max=0.999, step=0.1, value=0.5),\n",
    "      R=slider(min=0, max=7.5, step=0.1, value=0.5)):\n",
    "    samp_rate = 44100\n",
    "    env = janus.EnvFxP()\n",
    "    gate = [1 << 12]*samp_rate*4 + [0]*samp_rate*2\n",
    "    a = [int(A*(1 <<13))]*samp_rate*6\n",
    "    d = [int(D*(1 <<13))]*samp_rate*6\n",
    "    s = [int(S*(1 <<16))]*samp_rate*6\n",
    "    r = [int(R*(1 <<13))]*samp_rate*6\n",
    "    data = env.process(gate, a, d, s, r)\n",
    "    plt.plot(\n",
    "        [x/float(samp_rate) for x in range(samp_rate*6)],\n",
    "        [x/(1 << 16) for x in data]\n",
    "    )\n",
    "    plt.show()\n"
   ]
  },
  {
   "cell_type": "code",
   "execution_count": null,
   "id": "b357ba0a-9470-496b-90e5-3b62b22704a8",
   "metadata": {},
   "outputs": [],
   "source": []
  }
 ],
 "metadata": {
  "kernelspec": {
   "display_name": "Python 3 (ipykernel)",
   "language": "python",
   "name": "python3"
  },
  "language_info": {
   "codemirror_mode": {
    "name": "ipython",
    "version": 3
   },
   "file_extension": ".py",
   "mimetype": "text/x-python",
   "name": "python",
   "nbconvert_exporter": "python",
   "pygments_lexer": "ipython3",
   "version": "3.12.0"
  }
 },
 "nbformat": 4,
 "nbformat_minor": 5
}
