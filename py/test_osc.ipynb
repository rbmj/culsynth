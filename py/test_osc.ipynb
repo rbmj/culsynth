{
 "cells": [
  {
   "cell_type": "code",
   "execution_count": 1,
   "id": "816caabf-017b-453e-a354-586088f01a10",
   "metadata": {},
   "outputs": [
    {
     "data": {
      "application/vnd.jupyter.widget-view+json": {
       "model_id": "f83286de199c4df08812670a20daea14",
       "version_major": 2,
       "version_minor": 0
      },
      "text/plain": [
       "interactive(children=(IntSlider(value=69, description='freq', max=76, min=64), IntSlider(value=0, description=…"
      ]
     },
     "metadata": {},
     "output_type": "display_data"
    }
   ],
   "source": [
    "import janus\n",
    "import matplotlib.pyplot as plt\n",
    "from ipywidgets import interact\n",
    "import math\n",
    "import numpy\n",
    "\n",
    "@interact(freq=(64, 76, 1), shape=(0, 65535, 1))\n",
    "def test_osc(freq=69, shape=0, mode=[('Sin', 0), ('Square', 1), ('Tri', 2)]):\n",
    "    note = 440*math.exp2((freq-69)/12)\n",
    "    sample_rate = 44100\n",
    "    num_periods = 3\n",
    "    smp_three = int(num_periods*sample_rate/note)\n",
    "    num_samples = max([smp_three, 4096])\n",
    "    modes = janus.test_oscillator(num_samples, freq << 9, shape)\n",
    "    t = [x/sample_rate for x in range(smp_three)]\n",
    "    baseline = [-math.sin(2*math.pi*note*i) * (1 << 12) for i in t]\n",
    "    plt.plot(t, modes[0][:smp_three])\n",
    "    plt.plot(t, modes[1][:smp_three])\n",
    "    plt.plot(t, modes[2][:smp_three])\n",
    "    plt.plot(t, baseline, 'r--')\n",
    "    plt.show()\n",
    "    do_fft = modes[mode]\n",
    "    transform = numpy.abs(numpy.fft.fft(do_fft[:4096]))\n",
    "    f = numpy.fft.fftfreq(4096)*sample_rate\n",
    "    points = [x for x in zip(f, transform) if x[0] > 0 ]\n",
    "    transform = [x[1] for x in points]\n",
    "    f = [x[0] for x in points]\n",
    "    highest_mag = max(transform)\n",
    "    print(note)\n",
    "    print(f[transform.index(highest_mag)])\n",
    "    plt.loglog(f, transform)\n",
    "    plt.plot([note, note], [0, highest_mag], ':')\n",
    "    plt.show()\n"
   ]
  },
  {
   "cell_type": "code",
   "execution_count": null,
   "id": "b357ba0a-9470-496b-90e5-3b62b22704a8",
   "metadata": {},
   "outputs": [],
   "source": []
  }
 ],
 "metadata": {
  "kernelspec": {
   "display_name": "Python 3 (ipykernel)",
   "language": "python",
   "name": "python3"
  },
  "language_info": {
   "codemirror_mode": {
    "name": "ipython",
    "version": 3
   },
   "file_extension": ".py",
   "mimetype": "text/x-python",
   "name": "python",
   "nbconvert_exporter": "python",
   "pygments_lexer": "ipython3",
   "version": "3.12.0"
  }
 },
 "nbformat": 4,
 "nbformat_minor": 5
}
